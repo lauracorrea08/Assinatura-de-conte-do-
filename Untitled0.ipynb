{
  "nbformat": 4,
  "nbformat_minor": 0,
  "metadata": {
    "colab": {
      "provenance": [],
      "authorship_tag": "ABX9TyNxaJ/m232Z6SikT5s4kdbd",
      "include_colab_link": true
    },
    "kernelspec": {
      "name": "python3",
      "display_name": "Python 3"
    },
    "language_info": {
      "name": "python"
    }
  },
  "cells": [
    {
      "cell_type": "markdown",
      "metadata": {
        "id": "view-in-github",
        "colab_type": "text"
      },
      "source": [
        "<a href=\"https://colab.research.google.com/github/lauracorrea08/Assinatura-de-conte-do-/blob/main/Untitled0.ipynb\" target=\"_parent\"><img src=\"https://colab.research.google.com/assets/colab-badge.svg\" alt=\"Open In Colab\"/></a>"
      ]
    },
    {
      "cell_type": "code",
      "source": [],
      "metadata": {
        "id": "hdkl2LB5qi9i"
      },
      "execution_count": null,
      "outputs": []
    },
    {
      "cell_type": "markdown",
      "source": [
        "aula 1"
      ],
      "metadata": {
        "id": "6d3-89Ebqlu1"
      }
    },
    {
      "cell_type": "code",
      "execution_count": null,
      "metadata": {
        "id": "AcgHdJZEpd-p"
      },
      "outputs": [],
      "source": [
        "\n",
        "\n",
        "print(\"Primeira competição de programação dá start\")\n",
        "\n",
        "ano = \"VI\"\n",
        "print(ano, \"Competição de programação da estática\")\n",
        "\n",
        "print(ano, \"Competição de programação da estática\")\n",
        "\n",
        "\n",
        "\n"
      ]
    },
    {
      "cell_type": "markdown",
      "source": [
        "aula 2"
      ],
      "metadata": {
        "id": "Sk-VARZCqYF9"
      }
    },
    {
      "cell_type": "code",
      "source": [
        "livro_ficcao = 8\n",
        "livro_n_ficcao = 10\n",
        "livro_infantil = 6\n",
        "pontos_rodrigo = livro_ficcao + livro_n_ficcao + livro_infantil\n",
        "print(f\"Os pontos totais do Rodrigo são {pontos_rodrigo}\")\n",
        "pontos_ana = 2 * livro_ficcao + 5 * livro_infantil\n",
        "print(f\"Os pontos totais de Ana são {pontos_ana}\")\n",
        "\n",
        "\n",
        "livro_ficcao = 8\n",
        "livro_n_ficcao = 10\n",
        "livro_infantil = 6\n",
        "pontos_Ana = 2* livro_ficcao + 5* livro_infantil\n",
        "print(f\"Os pontos totais de Ana e rodrigo são {pontos_Ana + pontos_rodrigo}\")\n",
        "\n",
        "pontos_carlos = 1 * livro_ficcao + 3 * livro_n_ficcao  + 3 * livro_infantil\n",
        "print(f\"Os pontos totais de Carlo são {pontos_carlos}\")\n",
        "print(f\"Os pontos totais de Ana + Rodrigo + Carlo são {pontos_ana + pontos_rodrigo + pontos_carlos}\")\n",
        "\n",
        "total_de_figurinhas = int(input(\"Digite o total de figurinhas: \"))\n",
        "numero_de_amigos = int(input(\"Digite o número de amigos: \"))\n",
        "figurinhas_amigo = total_de_figurinhas // (numero_de_amigos + 2)\n",
        "figurinhas_joao = 2 * figurinhas_amigo\n",
        "\n",
        "print(f\"João recebeu {figurinhas_joao} figurinhas\")"
      ],
      "metadata": {
        "id": "VZDli7t5qXfe"
      },
      "execution_count": null,
      "outputs": []
    },
    {
      "cell_type": "markdown",
      "source": [
        "Aula 3\n"
      ],
      "metadata": {
        "id": "cIa2P4YwqC_9"
      }
    },
    {
      "cell_type": "code",
      "source": [
        "numero_de_alunos = int(input(\"Digite a quantidade de alunos: \"))\n",
        "numero_de_monitores = int(input(\"Digite a quantidade de monitores: \"))\n",
        "if numero_de_alunos + numero_de_monitores <= 50:\n",
        "  resposta_positiva = \"pode ir\"\n",
        "  resposta_negativa = \"não pode ir\"\n",
        "if numero_de_alunos + numero_de_monitores <= 50:\n",
        " print(resposta_positiva)\n",
        "else:\n",
        " print(resposta_negativa)\n",
        "\n",
        "quantidade_professores = 8\n",
        "numero_de_alunos = int(input(\"Digite a quantidade de alunos: \"))\n",
        "numero_de_monitores = int(input(\"Digite a quantidade de monitores: \"))\n",
        "if numero_de_alunos + numero_de_monitores + quantidade_professores <= 30:\n",
        "  resposta_positiva = \"pode ir\"\n",
        "  resposta_negativa = \"não pode ir\"\n",
        "if numero_de_alunos + numero_de_monitores + quantidade_professores <= 30:\n",
        "  print(resposta_positiva)\n",
        "else:\n",
        " print(resposta_negativa)\n"
      ],
      "metadata": {
        "id": "BEn2YQOjqERN"
      },
      "execution_count": null,
      "outputs": []
    }
  ]
}